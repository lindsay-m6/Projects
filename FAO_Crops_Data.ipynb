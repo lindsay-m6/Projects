{
 "cells": [
  {
   "cell_type": "markdown",
   "metadata": {},
   "source": [
    "# Analysis of the United Nation's Food and Agriculture <br>Organization's Crop Production Data\n",
    "The United Nation's Food and Agriculture Organization (FAO) publishes statistics of crop production from around the world. This project analyzes crop production data as reported by the FAO between 2000-2007. This analysis evaluates the n crops (default n = 4) with the highest average yield (in Hg/Ha) across all countries and all years in the dataset. For these n crops, this analysis determines the three highest producing countries. "
   ]
  },
  {
   "cell_type": "code",
   "execution_count": 26,
   "metadata": {},
   "outputs": [],
   "source": [
    "import pandas as pd\n",
    "import numpy as np\n",
    "import os"
   ]
  },
  {
   "cell_type": "markdown",
   "metadata": {},
   "source": [
    "Import FAO Crop Data Excel file and read file into a dataframe."
   ]
  },
  {
   "cell_type": "code",
   "execution_count": 27,
   "metadata": {},
   "outputs": [],
   "source": [
    "pwd = os.getcwd()\n",
    "file_path = pwd + \"/fao_crops_data.xlsx\"\n",
    "df = pd.read_excel(file_path)"
   ]
  },
  {
   "cell_type": "code",
   "execution_count": 28,
   "metadata": {},
   "outputs": [
    {
     "data": {
      "text/html": [
       "<div>\n",
       "<style scoped>\n",
       "    .dataframe tbody tr th:only-of-type {\n",
       "        vertical-align: middle;\n",
       "    }\n",
       "\n",
       "    .dataframe tbody tr th {\n",
       "        vertical-align: top;\n",
       "    }\n",
       "\n",
       "    .dataframe thead th {\n",
       "        text-align: right;\n",
       "    }\n",
       "</style>\n",
       "<table border=\"1\" class=\"dataframe\">\n",
       "  <thead>\n",
       "    <tr style=\"text-align: right;\">\n",
       "      <th></th>\n",
       "      <th>country_or_area</th>\n",
       "      <th>element_code</th>\n",
       "      <th>element</th>\n",
       "      <th>year</th>\n",
       "      <th>unit</th>\n",
       "      <th>value</th>\n",
       "      <th>value_footnotes</th>\n",
       "      <th>category</th>\n",
       "    </tr>\n",
       "  </thead>\n",
       "  <tbody>\n",
       "    <tr>\n",
       "      <th>0</th>\n",
       "      <td>Americas +</td>\n",
       "      <td>31</td>\n",
       "      <td>Area Harvested</td>\n",
       "      <td>2007</td>\n",
       "      <td>Ha</td>\n",
       "      <td>49404</td>\n",
       "      <td>A</td>\n",
       "      <td>agave_fibres_nes</td>\n",
       "    </tr>\n",
       "    <tr>\n",
       "      <th>1</th>\n",
       "      <td>Americas +</td>\n",
       "      <td>31</td>\n",
       "      <td>Area Harvested</td>\n",
       "      <td>2006</td>\n",
       "      <td>Ha</td>\n",
       "      <td>49404</td>\n",
       "      <td>A</td>\n",
       "      <td>agave_fibres_nes</td>\n",
       "    </tr>\n",
       "    <tr>\n",
       "      <th>2</th>\n",
       "      <td>Americas +</td>\n",
       "      <td>31</td>\n",
       "      <td>Area Harvested</td>\n",
       "      <td>2005</td>\n",
       "      <td>Ha</td>\n",
       "      <td>49404</td>\n",
       "      <td>A</td>\n",
       "      <td>agave_fibres_nes</td>\n",
       "    </tr>\n",
       "    <tr>\n",
       "      <th>3</th>\n",
       "      <td>Americas +</td>\n",
       "      <td>31</td>\n",
       "      <td>Area Harvested</td>\n",
       "      <td>2004</td>\n",
       "      <td>Ha</td>\n",
       "      <td>49113</td>\n",
       "      <td>A</td>\n",
       "      <td>agave_fibres_nes</td>\n",
       "    </tr>\n",
       "    <tr>\n",
       "      <th>4</th>\n",
       "      <td>Americas +</td>\n",
       "      <td>31</td>\n",
       "      <td>Area Harvested</td>\n",
       "      <td>2003</td>\n",
       "      <td>Ha</td>\n",
       "      <td>48559</td>\n",
       "      <td>A</td>\n",
       "      <td>agave_fibres_nes</td>\n",
       "    </tr>\n",
       "  </tbody>\n",
       "</table>\n",
       "</div>"
      ],
      "text/plain": [
       "  country_or_area  element_code         element  year unit  value  \\\n",
       "0      Americas +            31  Area Harvested  2007   Ha  49404   \n",
       "1      Americas +            31  Area Harvested  2006   Ha  49404   \n",
       "2      Americas +            31  Area Harvested  2005   Ha  49404   \n",
       "3      Americas +            31  Area Harvested  2004   Ha  49113   \n",
       "4      Americas +            31  Area Harvested  2003   Ha  48559   \n",
       "\n",
       "  value_footnotes          category  \n",
       "0              A   agave_fibres_nes  \n",
       "1              A   agave_fibres_nes  \n",
       "2              A   agave_fibres_nes  \n",
       "3              A   agave_fibres_nes  \n",
       "4              A   agave_fibres_nes  "
      ]
     },
     "execution_count": 28,
     "metadata": {},
     "output_type": "execute_result"
    }
   ],
   "source": [
    "df.head()"
   ]
  },
  {
   "cell_type": "markdown",
   "metadata": {},
   "source": [
    "The country_or_area column includes both countries and areas. Areas are identified with a plus sign (+) following the area name, so we'll create a column to distinguish between countries and regions based on whether the region name ends with a plus sign."
   ]
  },
  {
   "cell_type": "code",
   "execution_count": 29,
   "metadata": {},
   "outputs": [],
   "source": [
    "def define_area(row):\n",
    "    if row['country_or_area'].split()[-1] == '+':\n",
    "        row['geo_area'] = 'Region'\n",
    "    else :\n",
    "        row['geo_area'] = 'Country'\n",
    "    return row\n",
    "\n",
    "df = df.apply(define_area, axis='columns')"
   ]
  },
  {
   "cell_type": "code",
   "execution_count": 30,
   "metadata": {},
   "outputs": [
    {
     "data": {
      "text/html": [
       "<div>\n",
       "<style scoped>\n",
       "    .dataframe tbody tr th:only-of-type {\n",
       "        vertical-align: middle;\n",
       "    }\n",
       "\n",
       "    .dataframe tbody tr th {\n",
       "        vertical-align: top;\n",
       "    }\n",
       "\n",
       "    .dataframe thead th {\n",
       "        text-align: right;\n",
       "    }\n",
       "</style>\n",
       "<table border=\"1\" class=\"dataframe\">\n",
       "  <thead>\n",
       "    <tr style=\"text-align: right;\">\n",
       "      <th></th>\n",
       "      <th>country_or_area</th>\n",
       "      <th>element_code</th>\n",
       "      <th>element</th>\n",
       "      <th>year</th>\n",
       "      <th>unit</th>\n",
       "      <th>value</th>\n",
       "      <th>value_footnotes</th>\n",
       "      <th>category</th>\n",
       "      <th>geo_area</th>\n",
       "    </tr>\n",
       "  </thead>\n",
       "  <tbody>\n",
       "    <tr>\n",
       "      <th>0</th>\n",
       "      <td>Americas +</td>\n",
       "      <td>31</td>\n",
       "      <td>Area Harvested</td>\n",
       "      <td>2007</td>\n",
       "      <td>Ha</td>\n",
       "      <td>49404</td>\n",
       "      <td>A</td>\n",
       "      <td>agave_fibres_nes</td>\n",
       "      <td>Region</td>\n",
       "    </tr>\n",
       "    <tr>\n",
       "      <th>1</th>\n",
       "      <td>Americas +</td>\n",
       "      <td>31</td>\n",
       "      <td>Area Harvested</td>\n",
       "      <td>2006</td>\n",
       "      <td>Ha</td>\n",
       "      <td>49404</td>\n",
       "      <td>A</td>\n",
       "      <td>agave_fibres_nes</td>\n",
       "      <td>Region</td>\n",
       "    </tr>\n",
       "    <tr>\n",
       "      <th>2</th>\n",
       "      <td>Americas +</td>\n",
       "      <td>31</td>\n",
       "      <td>Area Harvested</td>\n",
       "      <td>2005</td>\n",
       "      <td>Ha</td>\n",
       "      <td>49404</td>\n",
       "      <td>A</td>\n",
       "      <td>agave_fibres_nes</td>\n",
       "      <td>Region</td>\n",
       "    </tr>\n",
       "    <tr>\n",
       "      <th>3</th>\n",
       "      <td>Americas +</td>\n",
       "      <td>31</td>\n",
       "      <td>Area Harvested</td>\n",
       "      <td>2004</td>\n",
       "      <td>Ha</td>\n",
       "      <td>49113</td>\n",
       "      <td>A</td>\n",
       "      <td>agave_fibres_nes</td>\n",
       "      <td>Region</td>\n",
       "    </tr>\n",
       "    <tr>\n",
       "      <th>4</th>\n",
       "      <td>Americas +</td>\n",
       "      <td>31</td>\n",
       "      <td>Area Harvested</td>\n",
       "      <td>2003</td>\n",
       "      <td>Ha</td>\n",
       "      <td>48559</td>\n",
       "      <td>A</td>\n",
       "      <td>agave_fibres_nes</td>\n",
       "      <td>Region</td>\n",
       "    </tr>\n",
       "  </tbody>\n",
       "</table>\n",
       "</div>"
      ],
      "text/plain": [
       "  country_or_area  element_code         element  year unit  value  \\\n",
       "0      Americas +            31  Area Harvested  2007   Ha  49404   \n",
       "1      Americas +            31  Area Harvested  2006   Ha  49404   \n",
       "2      Americas +            31  Area Harvested  2005   Ha  49404   \n",
       "3      Americas +            31  Area Harvested  2004   Ha  49113   \n",
       "4      Americas +            31  Area Harvested  2003   Ha  48559   \n",
       "\n",
       "  value_footnotes          category geo_area  \n",
       "0              A   agave_fibres_nes   Region  \n",
       "1              A   agave_fibres_nes   Region  \n",
       "2              A   agave_fibres_nes   Region  \n",
       "3              A   agave_fibres_nes   Region  \n",
       "4              A   agave_fibres_nes   Region  "
      ]
     },
     "execution_count": 30,
     "metadata": {},
     "output_type": "execute_result"
    }
   ],
   "source": [
    "df.head()"
   ]
  },
  {
   "cell_type": "markdown",
   "metadata": {},
   "source": [
    "Define a dataframe created to analyze yield data by country."
   ]
  },
  {
   "cell_type": "code",
   "execution_count": 31,
   "metadata": {},
   "outputs": [],
   "source": [
    "df_country = df[(df['geo_area']==\"Country\") & (df['element']=='Yield')]"
   ]
  },
  {
   "cell_type": "markdown",
   "metadata": {},
   "source": [
    "Calculate the mean yield across all years and countries to choose the n highest yield crops, as measured in Hg/Ha."
   ]
  },
  {
   "cell_type": "code",
   "execution_count": 32,
   "metadata": {},
   "outputs": [
    {
     "name": "stdout",
     "output_type": "stream",
     "text": [
      "The 4 highest yield crops in Hg/Ha are:\n",
      "cucumbers_and_gherkins, eggplants_aubergines, cabbages_and_other_brassicas, carrots_and_turnips\n"
     ]
    }
   ],
   "source": [
    "n = 4\n",
    "crop_avgs = df_country.groupby('category').agg({'value':np.nanmean})\n",
    "sorted_crop_avgs = crop_avgs.sort_values(by=['value'],ascending=False)\n",
    "high_yield_crops = list(sorted_crop_avgs[:n].index)\n",
    "print(\"The \" + str(n) + \" highest yield crops in Hg/Ha are:\")\n",
    "print(*high_yield_crops, sep=', ')"
   ]
  },
  {
   "cell_type": "markdown",
   "metadata": {},
   "source": [
    "Sorting the data to determine the 3 highest yield countries in for each of the n highest yield crops."
   ]
  },
  {
   "cell_type": "code",
   "execution_count": 33,
   "metadata": {},
   "outputs": [],
   "source": [
    "df_country_crops = df_country[df_country['category'].isin(high_yield_crops)]\n",
    "df_country_crops = df_country_crops.groupby(['category', 'country_or_area']).agg({'value':np.nanmean})\n",
    "df_country_crops.sort_values(by=['category','value'], ascending=False, inplace=True)\n",
    "df_country_crops = df_country_crops.groupby('category').head(3)\n",
    "df_country_crops = df_country_crops.reindex(high_yield_crops, level='category')"
   ]
  },
  {
   "cell_type": "code",
   "execution_count": 34,
   "metadata": {},
   "outputs": [
    {
     "data": {
      "text/html": [
       "<div>\n",
       "<style scoped>\n",
       "    .dataframe tbody tr th:only-of-type {\n",
       "        vertical-align: middle;\n",
       "    }\n",
       "\n",
       "    .dataframe tbody tr th {\n",
       "        vertical-align: top;\n",
       "    }\n",
       "\n",
       "    .dataframe thead th {\n",
       "        text-align: right;\n",
       "    }\n",
       "</style>\n",
       "<table border=\"1\" class=\"dataframe\">\n",
       "  <thead>\n",
       "    <tr style=\"text-align: right;\">\n",
       "      <th></th>\n",
       "      <th></th>\n",
       "      <th>value</th>\n",
       "    </tr>\n",
       "    <tr>\n",
       "      <th>category</th>\n",
       "      <th>country_or_area</th>\n",
       "      <th></th>\n",
       "    </tr>\n",
       "  </thead>\n",
       "  <tbody>\n",
       "    <tr>\n",
       "      <th rowspan=\"3\" valign=\"top\">cucumbers_and_gherkins</th>\n",
       "      <th>Netherlands</th>\n",
       "      <td>6802091.000</td>\n",
       "    </tr>\n",
       "    <tr>\n",
       "      <th>United Kingdom</th>\n",
       "      <td>4779496.625</td>\n",
       "    </tr>\n",
       "    <tr>\n",
       "      <th>Iceland</th>\n",
       "      <td>2567099.750</td>\n",
       "    </tr>\n",
       "    <tr>\n",
       "      <th rowspan=\"3\" valign=\"top\">eggplants_aubergines</th>\n",
       "      <th>Netherlands</th>\n",
       "      <td>4350115.875</td>\n",
       "    </tr>\n",
       "    <tr>\n",
       "      <th>Belgium</th>\n",
       "      <td>1347916.625</td>\n",
       "    </tr>\n",
       "    <tr>\n",
       "      <th>Israel</th>\n",
       "      <td>687634.500</td>\n",
       "    </tr>\n",
       "    <tr>\n",
       "      <th rowspan=\"3\" valign=\"top\">cabbages_and_other_brassicas</th>\n",
       "      <th>Tanzania, United Republic of</th>\n",
       "      <td>1372108.875</td>\n",
       "    </tr>\n",
       "    <tr>\n",
       "      <th>Korea, Republic of</th>\n",
       "      <td>607492.625</td>\n",
       "    </tr>\n",
       "    <tr>\n",
       "      <th>South Africa</th>\n",
       "      <td>586442.500</td>\n",
       "    </tr>\n",
       "    <tr>\n",
       "      <th rowspan=\"3\" valign=\"top\">carrots_and_turnips</th>\n",
       "      <th>United Kingdom</th>\n",
       "      <td>655389.250</td>\n",
       "    </tr>\n",
       "    <tr>\n",
       "      <th>Israel</th>\n",
       "      <td>622961.500</td>\n",
       "    </tr>\n",
       "    <tr>\n",
       "      <th>Belgium</th>\n",
       "      <td>593018.375</td>\n",
       "    </tr>\n",
       "  </tbody>\n",
       "</table>\n",
       "</div>"
      ],
      "text/plain": [
       "                                                                 value\n",
       "category                     country_or_area                          \n",
       "cucumbers_and_gherkins       Netherlands                   6802091.000\n",
       "                             United Kingdom                4779496.625\n",
       "                             Iceland                       2567099.750\n",
       "eggplants_aubergines         Netherlands                   4350115.875\n",
       "                             Belgium                       1347916.625\n",
       "                             Israel                         687634.500\n",
       "cabbages_and_other_brassicas Tanzania, United Republic of  1372108.875\n",
       "                             Korea, Republic of             607492.625\n",
       "                             South Africa                   586442.500\n",
       "carrots_and_turnips          United Kingdom                 655389.250\n",
       "                             Israel                         622961.500\n",
       "                             Belgium                        593018.375"
      ]
     },
     "execution_count": 34,
     "metadata": {},
     "output_type": "execute_result"
    }
   ],
   "source": [
    "df_country_crops"
   ]
  },
  {
   "cell_type": "markdown",
   "metadata": {},
   "source": [
    "Preparing to plot the data."
   ]
  },
  {
   "cell_type": "code",
   "execution_count": 35,
   "metadata": {},
   "outputs": [],
   "source": [
    "import matplotlib as mpl\n",
    "import matplotlib.pyplot as plt"
   ]
  },
  {
   "cell_type": "markdown",
   "metadata": {},
   "source": [
    "Plotting data."
   ]
  },
  {
   "cell_type": "code",
   "execution_count": 42,
   "metadata": {},
   "outputs": [
    {
     "data": {
      "image/png": "[encoded data removed]",
      "text/plain": [
       "<Figure size 1440x1080 with 1 Axes>"
      ]
     },
     "metadata": {
      "needs_background": "light"
     },
     "output_type": "display_data"
    }
   ],
   "source": [
    "%matplotlib inline\n",
    "df_country_crops.unstack(level=1).plot(kind='bar', stacked=True, figsize=(20,15))\n",
    "\n",
    "plt.tick_params(bottom=False)\n",
    "\n",
    "ax = plt.gca()\n",
    "ax.set_xlabel('Crop', labelpad=15, fontsize=18)\n",
    "ax.set_ylabel('Yield (Hg/Ha)', labelpad=15, fontsize=18)\n",
    "title = 'Top Producing Countries for the ' + str(n) + ' Highest Yield Crops According to \\n2000-2007 United Nations FAO Data'\n",
    "ax.set_title(title, pad=20, fontsize=20)\n",
    "\n",
    "x = plt.gca().xaxis\n",
    "for item in x.get_ticklabels():\n",
    "    item.set_rotation(0)\n",
    "plt.xticks(fontsize= 18)\n",
    "\n",
    "plt.legend(loc='center left', title = 'Legend', bbox_to_anchor=(1, 0.5), labels = list(df_country_crops.index.droplevel(0)), title_fontsize= 16,fontsize=16)\n",
    "plt.show()"
   ]
  },
  {
   "cell_type": "markdown",
   "metadata": {},
   "source": [
    "This plot displays the yield in Hg/Ha of the four highest yield crops: \n",
    "\n",
    "1. Cucumbers and gherkins\n",
    "2. Eggplants/aubergines\n",
    "3. Cabbages and other brassicas\n",
    "4. Carrots and turnips\n",
    "\n",
    "The stacked bar chart indicates the three highest producing countries per crop. This visualization clearly shows the Netherlands produces a large portion of the two highest yield crops."
   ]
  },
  {
   "cell_type": "markdown",
   "metadata": {},
   "source": []
  }
 ],
 "metadata": {
  "interpreter": {
   "hash": "dca0ade3e726a953b501b15e8e990130d2b7799f14cfd9f4271676035ebe5511"
  },
  "kernelspec": {
   "display_name": "Python 3.8.5 64-bit ('anaconda3': virtualenv)",
   "name": "python3"
  },
  "language_info": {
   "codemirror_mode": {
    "name": "ipython",
    "version": 3
   },
   "file_extension": ".py",
   "mimetype": "text/x-python",
   "name": "python",
   "nbconvert_exporter": "python",
   "pygments_lexer": "ipython3",
   "version": "3.8.5"
  },
  "orig_nbformat": 4
 },
 "nbformat": 4,
 "nbformat_minor": 2
}